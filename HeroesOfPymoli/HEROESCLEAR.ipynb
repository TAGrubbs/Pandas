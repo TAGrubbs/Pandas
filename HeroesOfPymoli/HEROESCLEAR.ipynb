{
 "cells": [
  {
   "cell_type": "markdown",
   "metadata": {},
   "source": [
    "### Heroes Of Pymoli Data Analysis\n",
    "* Of the 1163 active players, the vast majority are male (84%). There also exists, a smaller, but notable proportion of female players (14%).\n",
    "\n",
    "* Our peak age demographic falls between 20-24 (44.8%) with secondary groups falling between 15-19 (18.60%) and 25-29 (13.4%).  \n",
    "-----"
   ]
  },
  {
   "cell_type": "markdown",
   "metadata": {},
   "source": [
    "### Note\n",
    "* Instructions have been included for each segment. You do not have to follow them exactly, but they are included to help you think through the steps."
   ]
  },
  {
   "cell_type": "code",
   "execution_count": null,
   "metadata": {},
   "outputs": [],
   "source": [
    "# Dependencies and Setup\n",
    "import pandas as pd\n",
    "import numpy as np\n",
    "\n",
    "# File to Load (Remember to Change These)\n",
    "file_to_load = \"Resources/purchase_data.csv\"\n",
    "\n",
    "# Read Purchasing File and store into Pandas data frame\n",
    "purchase_data = pd.read_csv(file_to_load)\n",
    "purchase_data2 = purchase_data\n",
    "purchase_data.head()"
   ]
  },
  {
   "cell_type": "markdown",
   "metadata": {},
   "source": [
    "## Player Count"
   ]
  },
  {
   "cell_type": "markdown",
   "metadata": {},
   "source": [
    "* Display the total number of players\n"
   ]
  },
  {
   "cell_type": "code",
   "execution_count": null,
   "metadata": {},
   "outputs": [],
   "source": [
    "totplay = purchase_data.groupby(['SN'])\n",
    "totplaydict = [{'Total Players': len(totplay)}]\n",
    "totplaydf = pd.DataFrame(totplaydict)\n",
    "totplaydf"
   ]
  },
  {
   "cell_type": "markdown",
   "metadata": {},
   "source": [
    "## Purchasing Analysis (Total)"
   ]
  },
  {
   "cell_type": "markdown",
   "metadata": {},
   "source": [
    "* Run basic calculations to obtain number of unique items, average price, etc.\n",
    "\n",
    "\n",
    "* Create a summary data frame to hold the results\n",
    "\n",
    "\n",
    "* Optional: give the displayed data cleaner formatting\n",
    "\n",
    "\n",
    "* Display the summary data frame\n"
   ]
  },
  {
   "cell_type": "code",
   "execution_count": null,
   "metadata": {
    "scrolled": true
   },
   "outputs": [],
   "source": [
    "purchase_data.head()\n",
    "grouped_data_id = purchase_data.groupby(['Item ID'])\n",
    "len(grouped_data_id)\n",
    "avgprice = purchase_data[\"Price\"].mean()\n",
    "ravgprice = round(avgprice, 2)\n",
    "len(purchase_data)\n",
    "totalrev = purchase_data[\"Price\"].sum()\n",
    "purchanal = [{'Average Price': '$'+str(ravgprice), 'Number of Unique Items': len(grouped_data_id), \n",
    "              'Number of Purchases': len(purchase_data), 'Total Revenue': '$'+str(totalrev)}]\n",
    "purchanaldf= pd.DataFrame(purchanal)\n",
    "organized_purch_df = purchanaldf[['Number of Unique Items','Average Price','Number of Purchases','Total Revenue']]\n",
    "organized_purch_df.head()"
   ]
  },
  {
   "cell_type": "markdown",
   "metadata": {},
   "source": [
    "## Gender Demographics"
   ]
  },
  {
   "cell_type": "markdown",
   "metadata": {},
   "source": [
    "* Percentage and Count of Male Players\n",
    "\n",
    "\n",
    "* Percentage and Count of Female Players\n",
    "\n",
    "\n",
    "* Percentage and Count of Other / Non-Disclosed\n",
    "\n",
    "\n"
   ]
  },
  {
   "cell_type": "code",
   "execution_count": null,
   "metadata": {},
   "outputs": [],
   "source": [
    "genderdf = purchase_data.drop_duplicates(subset=\"SN\", keep='first', inplace=False)\n",
    "malec = genderdf.loc[genderdf[\"Gender\"] == \"Male\", :]\n",
    "femalec = genderdf.loc[genderdf[\"Gender\"] == \"Female\", :]\n",
    "otherc = genderdf.loc[genderdf[\"Gender\"] == \"Other / Non-Disclosed\", :]\n",
    "maleper = ((len(malec)/len(totplay)*100))\n",
    "femaleper = ((len(femalec)/len(totplay)*100))\n",
    "otherper = ((len(otherc)/len(totplay)*100))\n",
    "GenDem = pd.DataFrame(\n",
    "    {\"Total Count\": [len(malec), len(femalec), len(otherc)],\n",
    "     \"Percentage of Players\": [round(maleper,2), round(femaleper,2), round(otherper,2)]})\n",
    "GenDem.set_index([pd.Index([\"Male\", \"Female\", \"Other / Non-Disclosed\"])])"
   ]
  },
  {
   "cell_type": "markdown",
   "metadata": {},
   "source": [
    "\n",
    "## Purchasing Analysis (Gender)"
   ]
  },
  {
   "cell_type": "markdown",
   "metadata": {},
   "source": [
    "* Run basic calculations to obtain purchase count, avg. purchase price, avg. purchase total per person etc. by gender\n",
    "\n",
    "\n",
    "\n",
    "\n",
    "* Create a summary data frame to hold the results\n",
    "\n",
    "\n",
    "* Optional: give the displayed data cleaner formatting\n",
    "\n",
    "\n",
    "* Display the summary data frame"
   ]
  },
  {
   "cell_type": "code",
   "execution_count": null,
   "metadata": {},
   "outputs": [],
   "source": [
    "malePur = purchase_data.loc[purchase_data[\"Gender\"] == \"Male\", :]\n",
    "NumMPur = len(malePur)\n",
    "AvgMPur = malePur[\"Price\"].mean()\n",
    "TotMPur = malePur[\"Price\"].sum()\n",
    "ATPMPur = TotMPur/len(malec)\n",
    "femalePur = purchase_data.loc[purchase_data[\"Gender\"] == \"Female\", :]\n",
    "NumFPur = len(femalePur)\n",
    "AvgFPur = femalePur[\"Price\"].mean()\n",
    "TotFPur = femalePur[\"Price\"].sum()\n",
    "ATPFPur = TotFPur/len(femalec)\n",
    "otherPur = purchase_data.loc[purchase_data[\"Gender\"] == \"Other / Non-Disclosed\", :]\n",
    "NumOPur = len(otherPur)\n",
    "AvgOPur = otherPur[\"Price\"].mean()\n",
    "TotOPur = otherPur[\"Price\"].sum()\n",
    "ATPOPur = TotOPur/len(otherc)\n",
    "GenPur = pd.DataFrame(\n",
    "    {\"Gender\": [\"Female\", \"Male\", \"Other / Non-Disclosed\"],\n",
    "     \"Purchase Count\": [NumFPur, NumMPur, NumOPur],\n",
    "    \"Average Purchase Price\": [\"$\"+str(round(AvgFPur,2)), \"$\"+str(round(AvgMPur,2)), \"$\"+str(round(AvgOPur,2))],\n",
    "     \"Total Purchase Value\": [\"$\"+str(TotFPur),\"$\"+str(TotMPur),\"$\"+str(TotOPur)],\n",
    "     \"Avg Total Purchase per Person\": [\"$\"+str(round(ATPFPur, 2)),\"$\"+str(round(ATPMPur,2)),\"$\"+str(round(ATPOPur))]\n",
    "    })\n",
    "GenPur.set_index('Gender')"
   ]
  },
  {
   "cell_type": "markdown",
   "metadata": {},
   "source": [
    "## Age Demographics"
   ]
  },
  {
   "cell_type": "markdown",
   "metadata": {},
   "source": [
    "* Establish bins for ages\n",
    "\n",
    "\n",
    "* Categorize the existing players using the age bins. Hint: use pd.cut()\n",
    "\n",
    "\n",
    "* Calculate the numbers and percentages by age group\n",
    "\n",
    "\n",
    "* Create a summary data frame to hold the results\n",
    "\n",
    "\n",
    "* Optional: round the percentage column to two decimal points\n",
    "\n",
    "\n",
    "* Display Age Demographics Table\n"
   ]
  },
  {
   "cell_type": "code",
   "execution_count": null,
   "metadata": {},
   "outputs": [],
   "source": [
    "bins = [0, 9, 14, 19, 24, 29, 34, 39, 100]\n",
    "group_names = [\"<10\", \"10-14\", \"15-19\", \"20-24\", \"25-29\", \"30-34\", \"35-39\", \"40+\"]\n",
    "purchase_data2[\"Age Group\"] = pd.cut(purchase_data2[\"Age\"], bins, labels=group_names)\n",
    "Agedf = purchase_data2.drop_duplicates(subset=\"SN\", keep='first', inplace=False)\n",
    "AgeG = Agedf[\"Age Group\"].value_counts()\n",
    "Age_Dem_table = pd.DataFrame({\"Total Count\": AgeG,})\n",
    "APeroP = Age_Dem_table[\"Total Count\"]/len(totplay)*100\n",
    "Age_Dem_table[\"Percentage of Players\"] = APeroP\n",
    "Age_Dem_table.sort_index()\n",
    "Age_Dem_table.round({'Percentage of Players': 2})\n",
    "FinAgeDem = Age_Dem_table.sort_index()\n",
    "LastAgeDem=FinAgeDem.round({'Percentage of Players': 2})\n",
    "LastAgeDem"
   ]
  },
  {
   "cell_type": "markdown",
   "metadata": {},
   "source": [
    "## Purchasing Analysis (Age)"
   ]
  },
  {
   "cell_type": "markdown",
   "metadata": {},
   "source": [
    "* Bin the purchase_data data frame by age\n",
    "\n",
    "\n",
    "* Run basic calculations to obtain purchase count, avg. purchase price, avg. purchase total per person etc. in the table below\n",
    "\n",
    "\n",
    "* Create a summary data frame to hold the results\n",
    "\n",
    "\n",
    "* Optional: give the displayed data cleaner formatting\n",
    "\n",
    "\n",
    "* Display the summary data frame"
   ]
  },
  {
   "cell_type": "code",
   "execution_count": null,
   "metadata": {},
   "outputs": [],
   "source": [
    "PAG= purchase_data2.groupby(\"Age Group\")\n",
    "agedf=PAG.count()\n",
    "agedf.columns\n",
    "AAVGPP=purchase_data2.groupby('Age Group')['Price'].mean()\n",
    "ATPV=purchase_data2.groupby('Age Group')['Price'].sum()\n",
    "ATPP= ATPV/AgeG\n",
    "agedf.rename(index=str, columns={\"Purchase ID\": \"Purchase Count\"})\n",
    "newAGE=agedf.drop(columns=['SN', 'Age', 'Gender', 'Item ID', 'Item Name', 'Price'])\n",
    "APPdf = pd.DataFrame({\"Average Purchase Price\": AAVGPP})\n",
    "merge_table = pd.merge(newAGE, APPdf, on=\"Age Group\")\n",
    "merge_table2 = pd.merge(merge_table, ATPV, on=\"Age Group\") \n",
    "ATPPdf= pd.DataFrame({\"Avg Total Purchase per Person\": ATPP})\n",
    "ATPPdf.index.name = \"Age Group\"\n",
    "merge_table3 = pd.merge(merge_table2, ATPPdf, on=\"Age Group\")\n",
    "cleanMT=merge_table3.rename(columns={\"Price\": \"Total Purchase Value\"})\n",
    "rcleanMT=cleanMT.round({'Average Purchase Price': 2, 'Avg Total Purchase per Person': 2})\n",
    "rcleanMT"
   ]
  },
  {
   "cell_type": "code",
   "execution_count": null,
   "metadata": {},
   "outputs": [],
   "source": [
    "AAVGPP=purchase_data2.groupby('Age Group')['Price'].mean()\n",
    "ATPV=purchase_data2.groupby('Age Group')['Price'].sum()\n",
    "ATPP= ATPV/AgeG\n",
    "agedf.rename(index=str, columns={\"Purchase ID\": \"Purchase Count\"})\n",
    "newAGE=agedf.drop(columns=['SN', 'Age', 'Gender', 'Item ID', 'Item Name', 'Price'])\n",
    "APPdf = pd.DataFrame({\"Average Purchase Price\": AAVGPP})\n",
    "merge_table = pd.merge(newAGE, APPdf, on=\"Age Group\")\n",
    "merge_table2 = pd.merge(merge_table, ATPV, on=\"Age Group\") \n",
    "ATPPdf= pd.DataFrame({\"Avg Total Purchase per Person\": ATPP})\n",
    "ATPPdf.index.name = \"Age Group\"\n",
    "merge_table3 = pd.merge(merge_table2, ATPPdf, on=\"Age Group\")\n",
    "cleanMT=merge_table3.rename(columns={\"Price\": \"Total Purchase Value\"})\n",
    "rcleanMT=cleanMT.round({'Average Purchase Price': 2, 'Avg Total Purchase per Person': 2})\n",
    "rcleanMT"
   ]
  },
  {
   "cell_type": "markdown",
   "metadata": {},
   "source": [
    "## Top Spenders"
   ]
  },
  {
   "cell_type": "markdown",
   "metadata": {},
   "source": [
    "* Run basic calculations to obtain the results in the table below\n",
    "\n",
    "\n",
    "* Create a summary data frame to hold the results\n",
    "\n",
    "\n",
    "* Sort the total purchase value column in descending order\n",
    "\n",
    "\n",
    "* Optional: give the displayed data cleaner formatting\n",
    "\n",
    "\n",
    "* Display a preview of the summary data frame\n",
    "\n"
   ]
  },
  {
   "cell_type": "code",
   "execution_count": null,
   "metadata": {},
   "outputs": [],
   "source": [
    "SNdf=purchase_data2.groupby(['SN']).count()\n",
    "SNdf.sort_values(by='Purchase ID', ascending=False).head()\n",
    "STPV=purchase_data2.groupby(['SN'])['Price'].sum()\n",
    "SAPP=purchase_data2.groupby(['SN'])['Price'].mean()\n",
    "CSNdf=SNdf.drop(columns=['Age', 'Gender', 'Item ID', 'Item Name', 'Price','Age Group'])\n",
    "RNSNdf=CSNdf.rename(columns={\"Purchase ID\": \"Purchase Count\"})\n",
    "merge_table = pd.merge(RNSNdf, STPV, on=\"SN\")\n",
    "Smerge_table= merge_table.sort_values(by=['Purchase Count'], ascending=False)\n",
    "Rmerge_table= Smerge_table.rename(columns={'Price': 'Total Purchase Value'})\n",
    "merge_table2 = pd.merge(Rmerge_table, SAPP, on=\"SN\")\n",
    "Rmerge_table2= merge_table2.rename(columns={'Price': 'Average Purchase Price'})\n",
    "rcleanMTSN=Rmerge_table2.round({'Average Purchase Price': 2})\n",
    "FSNdf= rcleanMTSN[['Purchase Count', 'Average Purchase Price', 'Total Purchase Value']]\n",
    "FSNdf.sort_values(by='Total Purchase Value', ascending=False).head()"
   ]
  },
  {
   "cell_type": "markdown",
   "metadata": {},
   "source": [
    "## Most Popular Items"
   ]
  },
  {
   "cell_type": "markdown",
   "metadata": {},
   "source": [
    "* Retrieve the Item ID, Item Name, and Item Price columns\n",
    "\n",
    "\n",
    "* Group by Item ID and Item Name. Perform calculations to obtain purchase count, item price, and total purchase value\n",
    "\n",
    "\n",
    "* Create a summary data frame to hold the results\n",
    "\n",
    "\n",
    "* Sort the purchase count column in descending order\n",
    "\n",
    "\n",
    "* Optional: give the displayed data cleaner formatting\n",
    "\n",
    "\n",
    "* Display a preview of the summary data frame\n",
    "\n"
   ]
  },
  {
   "cell_type": "code",
   "execution_count": null,
   "metadata": {
    "scrolled": true
   },
   "outputs": [],
   "source": [
    "MPIdf= purchase_data2.drop(columns=['SN', 'Age', 'Gender', 'Age Group', 'Price'])\n",
    "MPI1= purchase_data2.drop(columns=['SN', 'Age', 'Gender', 'Age Group',])\n",
    "GMPI=MPIdf.groupby(['Item ID', 'Item Name']).count()\n",
    "MPIP= MPI1.drop_duplicates(subset=\"Item ID\", keep='first', inplace=False)\n",
    "MPIPS=MPIP.sort_values(by='Item ID')\n",
    "dfToList = MPIPS['Price'].tolist()\n",
    "GMPI['Price'] = dfToList\n",
    "GMPI['Total Purchase Value'] = GMPI['Purchase ID']*GMPI['Price']\n",
    "NL=GMPI.sort_values(by = 'Purchase ID', ascending=False)\n",
    "Final=NL.rename(columns={\"Purchase ID\": \"Purchase Count\"})\n",
    "Final.head()"
   ]
  },
  {
   "cell_type": "markdown",
   "metadata": {},
   "source": [
    "## Most Profitable Items"
   ]
  },
  {
   "cell_type": "markdown",
   "metadata": {},
   "source": [
    "* Sort the above table by total purchase value in descending order\n",
    "\n",
    "\n",
    "* Optional: give the displayed data cleaner formatting\n",
    "\n",
    "\n",
    "* Display a preview of the data frame\n",
    "\n"
   ]
  },
  {
   "cell_type": "code",
   "execution_count": null,
   "metadata": {
    "scrolled": true
   },
   "outputs": [],
   "source": [
    "FinalPROFIT=Final.sort_values(by = 'Total Purchase Value', ascending=False)\n",
    "FinalPROFIT.head()"
   ]
  }
 ],
 "metadata": {
  "anaconda-cloud": {},
  "kernel_info": {
   "name": "python3"
  },
  "kernelspec": {
   "display_name": "Python 3",
   "language": "python",
   "name": "python3"
  },
  "language_info": {
   "codemirror_mode": {
    "name": "ipython",
    "version": 3
   },
   "file_extension": ".py",
   "mimetype": "text/x-python",
   "name": "python",
   "nbconvert_exporter": "python",
   "pygments_lexer": "ipython3",
   "version": "3.7.3"
  },
  "nteract": {
   "version": "0.2.0"
  }
 },
 "nbformat": 4,
 "nbformat_minor": 2
}
